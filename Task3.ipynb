{
 "cells": [
  {
   "cell_type": "markdown",
   "id": "14547470-7b8a-4347-af76-f2fe5ffe328e",
   "metadata": {},
   "source": [
    "# Task3"
   ]
  },
  {
   "cell_type": "code",
   "execution_count": null,
   "id": "11ff712a-3fe6-4f68-b15d-6f9121ce059b",
   "metadata": {},
   "outputs": [],
   "source": [
    "# Copy this at the end of task2 notebook.\n",
    "\n",
    "# OR\n",
    "\n",
    "# Make the directory structure and file naming conventions as asked in Task1.\n",
    "# Use ImageDataGenerator for preprocessing and augmentation.\n",
    "# You can use the validation_subset feature\n",
    "# of ImageDataGenerator if not explicitly created a directory of validation set.\n",
    "# Write the code here for the same."
   ]
  },
  {
   "cell_type": "code",
   "execution_count": null,
   "id": "449dd6c7-d46c-44b6-b3b7-1424b6de0b78",
   "metadata": {},
   "outputs": [],
   "source": [
    "# Import libraries here."
   ]
  },
  {
   "cell_type": "code",
   "execution_count": null,
   "id": "35f52cf6-f555-4347-a640-061decd08bf6",
   "metadata": {},
   "outputs": [],
   "source": [
    "# Make the model architecture."
   ]
  },
  {
   "cell_type": "code",
   "execution_count": null,
   "id": "5bf8bf83-7649-45a0-99b1-9a428d65e4ab",
   "metadata": {},
   "outputs": [],
   "source": [
    "# Show model.summary()."
   ]
  },
  {
   "cell_type": "code",
   "execution_count": null,
   "id": "9d23594e-d916-4586-bf80-c2a33dbc8980",
   "metadata": {},
   "outputs": [],
   "source": [
    "# Compile the model."
   ]
  },
  {
   "cell_type": "code",
   "execution_count": null,
   "id": "f0b8a1a9-a371-4932-8bf2-ec16d0d52d61",
   "metadata": {},
   "outputs": [],
   "source": [
    "# Fit the model. The output must be visible of every epoch."
   ]
  },
  {
   "cell_type": "code",
   "execution_count": null,
   "id": "27d2c052-852c-4ae9-8fe6-05fe3d09f245",
   "metadata": {},
   "outputs": [],
   "source": [
    "# Plot Accuracy vs Validation Accuracy."
   ]
  },
  {
   "cell_type": "code",
   "execution_count": null,
   "id": "eaa1ad2c-913a-4050-b0de-252dbd13b022",
   "metadata": {},
   "outputs": [],
   "source": [
    "# Plot Loss vs Validation Loss."
   ]
  },
  {
   "cell_type": "code",
   "execution_count": null,
   "id": "6e381c67-eb39-4d0b-b48e-dc881e95409a",
   "metadata": {},
   "outputs": [],
   "source": [
    "# Test the model on test_set."
   ]
  },
  {
   "cell_type": "code",
   "execution_count": null,
   "id": "b28b4c5e-4da3-4875-8b7b-32b207073a44",
   "metadata": {},
   "outputs": [],
   "source": [
    "# Print test loss and test accuracy."
   ]
  },
  {
   "cell_type": "code",
   "execution_count": null,
   "id": "29af04a5-5043-4463-9c16-27849d3ccc32",
   "metadata": {},
   "outputs": [],
   "source": []
  },
  {
   "cell_type": "markdown",
   "id": "5159db29-c1e8-456e-86de-2e863c9e6621",
   "metadata": {},
   "source": [
    "## You can use more methods of your choice to improve accuracy.\n",
    "## Basic code structure is provided. Show clear output of all the cells.\n",
    "## Note that the accuracy on the test set must be over 40% for merging."
   ]
  },
  {
   "cell_type": "code",
   "execution_count": null,
   "id": "b4431328-7a5e-40cf-9729-b1cf7af4ec87",
   "metadata": {},
   "outputs": [],
   "source": []
  }
 ],
 "metadata": {
  "kernelspec": {
   "display_name": "Python 3 (ipykernel)",
   "language": "python",
   "name": "python3"
  },
  "language_info": {
   "codemirror_mode": {
    "name": "ipython",
    "version": 3
   },
   "file_extension": ".py",
   "mimetype": "text/x-python",
   "name": "python",
   "nbconvert_exporter": "python",
   "pygments_lexer": "ipython3",
   "version": "3.11.5"
  }
 },
 "nbformat": 4,
 "nbformat_minor": 5
}
